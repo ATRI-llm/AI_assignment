{
 "cells": [
  {
   "cell_type": "markdown",
   "id": "c25afac0",
   "metadata": {},
   "source": [
    "### Calculate size of the state space\n"
   ]
  },
  {
   "cell_type": "code",
   "execution_count": null,
   "id": "49769051",
   "metadata": {},
   "outputs": [
    {
     "name": "stdout",
     "output_type": "stream",
     "text": [
      "State space size: 140\n"
     ]
    }
   ],
   "source": [
    "def state_space_size():\n",
    "    import math\n",
    "    # 7 positions total: 3 E, 3 W, and 1 empty\n",
    "    return math.factorial(7) // (math.factorial(3) * math.factorial(3) * math.factorial(1))\n",
    "\n",
    "print(\"State space size:\", state_space_size())\n"
   ]
  },
  {
   "cell_type": "markdown",
   "id": "9424dceb",
   "metadata": {},
   "source": [
    "### Solve the problem using BFS and print the solution path\n"
   ]
  },
  {
   "cell_type": "code",
   "execution_count": null,
   "id": "c08f808d",
   "metadata": {},
   "outputs": [
    {
     "name": "stdout",
     "output_type": "stream",
     "text": [
      "BFS solution steps:\n",
      "EEE_WWW => E moves from 2 to 3\n",
      "EE_EWWW => W jumps from 4 to 2\n",
      "EEWE_WW => W moves from 5 to 4\n",
      "EEWEW_W => E jumps from 3 to 5\n",
      "EEW_WEW => E jumps from 1 to 3\n",
      "E_WEWEW => E moves from 0 to 1\n",
      "_EWEWEW => W jumps from 2 to 0\n",
      "WE_EWEW => W jumps from 4 to 2\n",
      "WEWE_EW => W jumps from 6 to 4\n",
      "WEWEWE_ => E moves from 5 to 6\n",
      "WEWEW_E => E jumps from 3 to 5\n",
      "WEW_WEE => E jumps from 1 to 3\n",
      "W_WEWEE => W moves from 2 to 1\n",
      "WW_EWEE => W jumps from 4 to 2\n",
      "WWWE_EE => E moves from 3 to 4\n",
      "WWW_EEE\n"
     ]
    }
   ],
   "source": [
    "from collections import deque\n",
    "\n",
    "def get_valid_moves(state):\n",
    "    rabbits = list(state)\n",
    "    empty_index = rabbits.index('_')\n",
    "    moves = []\n",
    "    # East-bound rabbits move right\n",
    "    for i in range(len(rabbits)):\n",
    "        if rabbits[i] == 'E':\n",
    "            if i + 1 == empty_index:\n",
    "                new_state = rabbits.copy()\n",
    "                new_state[i], new_state[i+1] = new_state[i+1], new_state[i]\n",
    "                moves.append(('E moves from {} to {}'.format(i, i+1), ''.join(new_state)))\n",
    "            elif i + 2 == empty_index and rabbits[i+1] in ['E', 'W']:\n",
    "                new_state = rabbits.copy()\n",
    "                new_state[i], new_state[i+2] = new_state[i+2], new_state[i]\n",
    "                moves.append(('E jumps from {} to {}'.format(i, i+2), ''.join(new_state)))\n",
    "    # West-bound rabbits move left\n",
    "    for i in range(len(rabbits)):\n",
    "        if rabbits[i] == 'W':\n",
    "            if i - 1 == empty_index:\n",
    "                new_state = rabbits.copy()\n",
    "                new_state[i], new_state[i-1] = new_state[i-1], new_state[i]\n",
    "                moves.append(('W moves from {} to {}'.format(i, i-1), ''.join(new_state)))\n",
    "            elif i - 2 == empty_index and rabbits[i-1] in ['E', 'W']:\n",
    "                new_state = rabbits.copy()\n",
    "                new_state[i], new_state[i-2] = new_state[i-2], new_state[i]\n",
    "                moves.append(('W jumps from {} to {}'.format(i, i-2), ''.join(new_state)))\n",
    "    return moves\n",
    "\n",
    "def bfs_solver(initial_state, goal_state):\n",
    "    queue = deque([(initial_state, [])])\n",
    "    visited = set()\n",
    "    visited.add(initial_state)\n",
    "    while queue:\n",
    "        current_state, path = queue.popleft()\n",
    "        if current_state == goal_state:\n",
    "            return path + [current_state]\n",
    "        for move_desc, new_state in get_valid_moves(current_state):\n",
    "            if new_state not in visited:\n",
    "                visited.add(new_state)\n",
    "                queue.append((new_state, path + [current_state + ' => ' + move_desc]))\n",
    "    return None\n",
    "\n",
    "initial_state = 'EEE_WWW'\n",
    "goal_state = 'WWW_EEE'\n",
    "\n",
    "bfs_solution = bfs_solver(initial_state, goal_state)\n",
    "print(\"BFS solution steps:\")\n",
    "for step in bfs_solution:\n",
    "    print(step)\n"
   ]
  },
  {
   "cell_type": "markdown",
   "id": "5e30aba3",
   "metadata": {},
   "source": [
    "### Solve the problem using DFS and print the solution path\n"
   ]
  },
  {
   "cell_type": "code",
   "execution_count": null,
   "id": "a39e0986",
   "metadata": {},
   "outputs": [
    {
     "name": "stdout",
     "output_type": "stream",
     "text": [
      "DFS solution steps:\n",
      "EEE_WWW => E moves from 2 to 3\n",
      "EE_EWWW => W jumps from 4 to 2\n",
      "EEWE_WW => W moves from 5 to 4\n",
      "EEWEW_W => E jumps from 3 to 5\n",
      "EEW_WEW => E jumps from 1 to 3\n",
      "E_WEWEW => E moves from 0 to 1\n",
      "_EWEWEW => W jumps from 2 to 0\n",
      "WE_EWEW => W jumps from 4 to 2\n",
      "WEWE_EW => W jumps from 6 to 4\n",
      "WEWEWE_ => E moves from 5 to 6\n",
      "WEWEW_E => E jumps from 3 to 5\n",
      "WEW_WEE => E jumps from 1 to 3\n",
      "W_WEWEE => W moves from 2 to 1\n",
      "WW_EWEE => W jumps from 4 to 2\n",
      "WWWE_EE => E moves from 3 to 4\n",
      "WWW_EEE\n"
     ]
    }
   ],
   "source": [
    "\n",
    "def dfs_solver(initial_state, goal_state):\n",
    "    stack = [(initial_state, [])]\n",
    "    visited = set()\n",
    "    visited.add(initial_state)\n",
    "    while stack:\n",
    "        current_state, path = stack.pop()\n",
    "        if current_state == goal_state:\n",
    "            return path + [current_state]\n",
    "        for move_desc, new_state in reversed(get_valid_moves(current_state)):\n",
    "            if new_state not in visited:\n",
    "                visited.add(new_state)\n",
    "                stack.append((new_state, path + [current_state + ' => ' + move_desc]))\n",
    "    return None\n",
    "\n",
    "dfs_solution = dfs_solver(initial_state, goal_state)\n",
    "print(\"DFS solution steps:\")\n",
    "for step in dfs_solution:\n",
    "    print(step)\n"
   ]
  },
  {
   "cell_type": "code",
   "execution_count": 5,
   "id": "8b91061d",
   "metadata": {},
   "outputs": [
    {
     "name": "stdout",
     "output_type": "stream",
     "text": [
      "Length of BFS solution: 16\n",
      "Length of DFS solution: 16\n"
     ]
    }
   ],
   "source": [
    "# Step 4: Compare BFS and DFS solutions and comment on time and space complexity\n",
    "\n",
    "print(\"Length of BFS solution:\", len(bfs_solution))\n",
    "print(\"Length of DFS solution:\", len(dfs_solution))\n"
   ]
  },
  {
   "cell_type": "markdown",
   "id": "b2d1d47d",
   "metadata": {},
   "source": [
    "- BFS finds the optimal solution with the minimum number of steps.\n",
    "- DFS may find a solution faster but not necessarily the shortest.\n",
    "- Time complexity:\n",
    "  Both BFS and DFS can be up to O(b^d) where b is branching factor and d is depth.\n",
    "- Space complexity:\n",
    "  - BFS stores all nodes at a level; can be higher space O(b^d).\n",
    "  - DFS stores a path; space complexity O(d)."
   ]
  },
  {
   "cell_type": "code",
   "execution_count": null,
   "id": "dc7c8a9e",
   "metadata": {},
   "outputs": [],
   "source": []
  }
 ],
 "metadata": {
  "kernelspec": {
   "display_name": "Python 3",
   "language": "python",
   "name": "python3"
  },
  "language_info": {
   "codemirror_mode": {
    "name": "ipython",
    "version": 3
   },
   "file_extension": ".py",
   "mimetype": "text/x-python",
   "name": "python",
   "nbconvert_exporter": "python",
   "pygments_lexer": "ipython3",
   "version": "3.11.9"
  }
 },
 "nbformat": 4,
 "nbformat_minor": 5
}
